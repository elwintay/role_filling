{
 "cells": [
  {
   "cell_type": "code",
   "execution_count": 34,
   "metadata": {},
   "outputs": [],
   "source": [
    "import numpy as np\n",
    "import pandas as pd\n",
    "import json"
   ]
  },
  {
   "cell_type": "code",
   "execution_count": 35,
   "metadata": {},
   "outputs": [],
   "source": [
    "def get_data(datapath):\n",
    "    data = []\n",
    "    with open(datapath) as f:\n",
    "        for line in f:\n",
    "            data.append(json.loads(line))\n",
    "    return data"
   ]
  },
  {
   "cell_type": "code",
   "execution_count": 36,
   "metadata": {},
   "outputs": [],
   "source": [
    "def prepare_event_data(data):\n",
    "    output_dict = {}\n",
    "    output_dict['attack'] = {}\n",
    "    output_dict['kidnapping'] = {}\n",
    "    output_dict['bombing'] = {}\n",
    "    \n",
    "    for doc in data:\n",
    "        for template in doc['templates']:\n",
    "            incident_type = template['incident_type']\n",
    "            if incident_type not in ['attack', 'kidnapping', 'bombing']:\n",
    "                continue\n",
    "\n",
    "            new_dict = {}\n",
    "            new_dict['doc'] = doc['doctext']\n",
    "            role_dict = {}\n",
    "            \n",
    "            perp_individual_id = []\n",
    "            if len(template['PerpInd'])>0:\n",
    "                for item in template['PerpInd']:\n",
    "                    perpid_list = []\n",
    "                    for perpid in item:\n",
    "                        perpid_list.append(perpid[0])\n",
    "                    perp_individual_id.append(perpid_list)\n",
    "            role_dict['perp_individual_id'] = perp_individual_id\n",
    "            \n",
    "            perp_organisation_id = []\n",
    "            if len(template['PerpOrg'])>0:\n",
    "                for item in template['PerpOrg']:\n",
    "                    perporg_list = []\n",
    "                    for perporg in item:\n",
    "                        perporg_list.append(perporg[0])\n",
    "                    perp_organisation_id.append(perporg_list)\n",
    "            role_dict['perp_organization_id'] = perp_organisation_id\n",
    "            \n",
    "            phys_tgt_id = []\n",
    "            if len(template['Target'])>0:\n",
    "                for item in template['Target']:\n",
    "                    target_list = []\n",
    "                    for target in item:\n",
    "                        target_list.append(target[0])\n",
    "                    phys_tgt_id.append(target_list)\n",
    "            role_dict['phys_tgt_id'] = phys_tgt_id\n",
    "            \n",
    "            hum_tgt_name = []\n",
    "            if len(template['Victim'])>0:\n",
    "                for item in template['Victim']:\n",
    "                    victim_list = []\n",
    "                    for victim in item:\n",
    "                        victim_list.append(victim[0])\n",
    "                    hum_tgt_name.append(victim_list)\n",
    "            role_dict['hum_tgt_name'] = hum_tgt_name\n",
    "            \n",
    "            incident_instrument_id = []\n",
    "            if len(template['Weapon'])>0:\n",
    "                for item in template['Weapon']:\n",
    "                    weapon_list = []\n",
    "                    for weapon in item:\n",
    "                        weapon_list.append(weapon[0])\n",
    "                    incident_instrument_id.append(weapon_list)\n",
    "            role_dict['incident_instrument_id'] = incident_instrument_id\n",
    "            \n",
    "            new_dict['roles'] = role_dict\n",
    "            count = len(output_dict[incident_type].keys()) + 1\n",
    "            docid = \"TST-MUC3-\" + str(count).zfill(4)\n",
    "            output_dict[incident_type][docid] = new_dict\n",
    "    return output_dict"
   ]
  },
  {
   "cell_type": "code",
   "execution_count": 37,
   "metadata": {},
   "outputs": [],
   "source": [
    "train = prepare_event_data(get_data('train.json'))\n",
    "dev = prepare_event_data(get_data('dev.json'))\n",
    "test = prepare_event_data(get_data('test.json'))"
   ]
  },
  {
   "cell_type": "code",
   "execution_count": 38,
   "metadata": {},
   "outputs": [],
   "source": [
    "with open('event_output/attack/train.json', 'w', encoding='utf-8') as f:\n",
    "    json.dump(train['attack'], f, ensure_ascii=False, indent=4)\n",
    "with open('event_output/attack/dev.json', 'w', encoding='utf-8') as f:\n",
    "    json.dump(dev['attack'], f, ensure_ascii=False, indent=4)\n",
    "with open('event_output/attack/test.json', 'w', encoding='utf-8') as f:\n",
    "    json.dump(test['attack'], f, ensure_ascii=False, indent=4)"
   ]
  },
  {
   "cell_type": "code",
   "execution_count": 39,
   "metadata": {},
   "outputs": [],
   "source": [
    "with open('event_output/kidnapping/train.json', 'w', encoding='utf-8') as f:\n",
    "    json.dump(train['kidnapping'], f, ensure_ascii=False, indent=4)\n",
    "with open('event_output/kidnapping/dev.json', 'w', encoding='utf-8') as f:\n",
    "    json.dump(dev['kidnapping'], f, ensure_ascii=False, indent=4)\n",
    "with open('event_output/kidnapping/test.json', 'w', encoding='utf-8') as f:\n",
    "    json.dump(test['kidnapping'], f, ensure_ascii=False, indent=4)"
   ]
  },
  {
   "cell_type": "code",
   "execution_count": 40,
   "metadata": {},
   "outputs": [],
   "source": [
    "with open('event_output/bombing/train.json', 'w', encoding='utf-8') as f:\n",
    "    json.dump(train['bombing'], f, ensure_ascii=False, indent=4)\n",
    "with open('event_output/bombing/dev.json', 'w', encoding='utf-8') as f:\n",
    "    json.dump(dev['bombing'], f, ensure_ascii=False, indent=4)\n",
    "with open('event_output/bombing/test.json', 'w', encoding='utf-8') as f:\n",
    "    json.dump(test['bombing'], f, ensure_ascii=False, indent=4)"
   ]
  },
  {
   "cell_type": "code",
   "execution_count": null,
   "metadata": {},
   "outputs": [],
   "source": []
  }
 ],
 "metadata": {
  "kernelspec": {
   "display_name": "Python 3",
   "language": "python",
   "name": "python3"
  },
  "language_info": {
   "codemirror_mode": {
    "name": "ipython",
    "version": 3
   },
   "file_extension": ".py",
   "mimetype": "text/x-python",
   "name": "python",
   "nbconvert_exporter": "python",
   "pygments_lexer": "ipython3",
   "version": "3.6.9"
  }
 },
 "nbformat": 4,
 "nbformat_minor": 4
}
